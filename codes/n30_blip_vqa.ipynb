{
 "cells": [
  {
   "cell_type": "code",
   "execution_count": 1,
   "id": "507fb2c8-6bf1-400a-9f24-0da07f23ae14",
   "metadata": {},
   "outputs": [
    {
     "name": "stdout",
     "output_type": "stream",
     "text": [
      "torch: 2.4.1+cu124\n",
      "torchvision: 0.19.1+cu124\n",
      "CUDA available?: True\n",
      "GPU: NVIDIA A40\n"
     ]
    }
   ],
   "source": [
    "import torch\n",
    "import torchvision\n",
    "\n",
    "print(\"torch:\", torch.__version__)\n",
    "print(\"torchvision:\", torchvision.__version__)\n",
    "print(\"CUDA available?:\", torch.cuda.is_available())\n",
    "print(\"GPU:\", torch.cuda.get_device_name(0))"
   ]
  },
  {
   "cell_type": "code",
   "execution_count": 2,
   "id": "5186c39c-c349-4d16-854c-609f4c406b4f",
   "metadata": {},
   "outputs": [
    {
     "name": "stdout",
     "output_type": "stream",
     "text": [
      "\u001b[33mWARNING: Running pip as the 'root' user can result in broken permissions and conflicting behaviour with the system package manager, possibly rendering your system unusable.It is recommended to use a virtual environment instead: https://pip.pypa.io/warnings/venv. Use the --root-user-action option if you know what you are doing and want to suppress this warning.\u001b[0m\u001b[33m\n",
      "\u001b[0m\n",
      "\u001b[1m[\u001b[0m\u001b[34;49mnotice\u001b[0m\u001b[1;39;49m]\u001b[0m\u001b[39;49m A new release of pip is available: \u001b[0m\u001b[31;49m24.2\u001b[0m\u001b[39;49m -> \u001b[0m\u001b[32;49m25.1.1\u001b[0m\n",
      "\u001b[1m[\u001b[0m\u001b[34;49mnotice\u001b[0m\u001b[1;39;49m]\u001b[0m\u001b[39;49m To update, run: \u001b[0m\u001b[32;49mpython -m pip install --upgrade pip\u001b[0m\n"
     ]
    }
   ],
   "source": [
    "# 0. (필요 시) 패키지 설치\n",
    "!pip install transformers>=4.40.0 pillow"
   ]
  },
  {
   "cell_type": "code",
   "execution_count": 3,
   "id": "565daa63-fd36-4b47-bfef-6432fd99c08a",
   "metadata": {},
   "outputs": [],
   "source": [
    "# 1. 라이브러리 임포트\n",
    "import torch\n",
    "from PIL import Image\n",
    "from transformers import BlipProcessor, BlipForQuestionAnswering"
   ]
  },
  {
   "cell_type": "code",
   "execution_count": 4,
   "id": "b280be04-02eb-45f4-a976-5e36fb5d81a9",
   "metadata": {},
   "outputs": [
    {
     "name": "stdout",
     "output_type": "stream",
     "text": [
      "Using device: cuda\n"
     ]
    }
   ],
   "source": [
    "# 2. 디바이스 설정\n",
    "device = \"cuda\" if torch.cuda.is_available() else \"cpu\"\n",
    "print(f\"Using device: {device}\")"
   ]
  },
  {
   "cell_type": "code",
   "execution_count": 5,
   "id": "83cb3b93-6111-44ad-89aa-3fb5b513a168",
   "metadata": {},
   "outputs": [
    {
     "data": {
      "application/vnd.jupyter.widget-view+json": {
       "model_id": "ea980c48a554423dbe32f1814067aeae",
       "version_major": 2,
       "version_minor": 0
      },
      "text/plain": [
       "preprocessor_config.json:   0%|          | 0.00/445 [00:00<?, ?B/s]"
      ]
     },
     "metadata": {},
     "output_type": "display_data"
    },
    {
     "data": {
      "application/vnd.jupyter.widget-view+json": {
       "model_id": "ae7c240465d74950b5fa0c3c88b2844d",
       "version_major": 2,
       "version_minor": 0
      },
      "text/plain": [
       "tokenizer_config.json:   0%|          | 0.00/592 [00:00<?, ?B/s]"
      ]
     },
     "metadata": {},
     "output_type": "display_data"
    },
    {
     "data": {
      "application/vnd.jupyter.widget-view+json": {
       "model_id": "7046d00d54d54279b9d46f2b8ac3e532",
       "version_major": 2,
       "version_minor": 0
      },
      "text/plain": [
       "vocab.txt:   0%|          | 0.00/232k [00:00<?, ?B/s]"
      ]
     },
     "metadata": {},
     "output_type": "display_data"
    },
    {
     "data": {
      "application/vnd.jupyter.widget-view+json": {
       "model_id": "5e94fcf8ed6448ad8d24818c492ff048",
       "version_major": 2,
       "version_minor": 0
      },
      "text/plain": [
       "tokenizer.json:   0%|          | 0.00/711k [00:00<?, ?B/s]"
      ]
     },
     "metadata": {},
     "output_type": "display_data"
    },
    {
     "data": {
      "application/vnd.jupyter.widget-view+json": {
       "model_id": "5cabaf4e30954b4b8910880c9cf97e44",
       "version_major": 2,
       "version_minor": 0
      },
      "text/plain": [
       "special_tokens_map.json:   0%|          | 0.00/125 [00:00<?, ?B/s]"
      ]
     },
     "metadata": {},
     "output_type": "display_data"
    },
    {
     "data": {
      "application/vnd.jupyter.widget-view+json": {
       "model_id": "706c1756ee3a43a084618958c0634230",
       "version_major": 2,
       "version_minor": 0
      },
      "text/plain": [
       "config.json:   0%|          | 0.00/4.56k [00:00<?, ?B/s]"
      ]
     },
     "metadata": {},
     "output_type": "display_data"
    },
    {
     "data": {
      "application/vnd.jupyter.widget-view+json": {
       "model_id": "9e279993dfce4f13bed1e7156ea65bf3",
       "version_major": 2,
       "version_minor": 0
      },
      "text/plain": [
       "model.safetensors:   0%|          | 0.00/1.54G [00:00<?, ?B/s]"
      ]
     },
     "metadata": {},
     "output_type": "display_data"
    }
   ],
   "source": [
    "# 3. 모델과 프로세서 로드 (VQA 전용)\n",
    "from transformers import BlipProcessor, BlipForQuestionAnswering\n",
    "\n",
    "model_name_vqa = \"Salesforce/blip-vqa-base\"\n",
    "\n",
    "processor_vqa = BlipProcessor.from_pretrained(model_name_vqa, use_fast=True)\n",
    "model_vqa = BlipForQuestionAnswering.from_pretrained(\n",
    "    model_name_vqa,\n",
    "    use_safetensors=True\n",
    ").to(device)\n"
   ]
  },
  {
   "cell_type": "code",
   "execution_count": 6,
   "id": "a21b225a-310e-4a2d-b82a-e704facf08f5",
   "metadata": {},
   "outputs": [],
   "source": [
    "# 4. 이미지 및 질문 준비\n",
    "image_path = \"Golden-Retriever.jpg\"  # 본인 환경에 맞게 경로 수정\n",
    "question = \"What is the dog doing?\"     # 예시 질문\n",
    "image = Image.open(image_path).convert(\"RGB\")"
   ]
  },
  {
   "cell_type": "code",
   "execution_count": 7,
   "id": "bbbf9c32-1b7a-4404-b61c-aa4a11381faf",
   "metadata": {},
   "outputs": [],
   "source": [
    "# 5. 전처리: 이미지와 질문을 함께 처리\n",
    "inputs = processor_vqa(\n",
    "    images=image,\n",
    "    text=question,\n",
    "    return_tensors=\"pt\"\n",
    ").to(device)"
   ]
  },
  {
   "cell_type": "code",
   "execution_count": 8,
   "id": "7c69c2ee-0ae2-4b69-9225-d70b725681d0",
   "metadata": {},
   "outputs": [],
   "source": [
    "# 6. 답변 생성\n",
    "with torch.no_grad():\n",
    "    outputs = model_vqa.generate(\n",
    "        **inputs,\n",
    "        max_length=16,      # 답변 최대 토큰 수\n",
    "        num_beams=4,\n",
    "        early_stopping=True\n",
    "    )"
   ]
  },
  {
   "cell_type": "code",
   "execution_count": 9,
   "id": "f0ce70cd-e8bf-488c-9479-2acd7f2ff674",
   "metadata": {},
   "outputs": [
    {
     "name": "stdout",
     "output_type": "stream",
     "text": [
      "🔹 Question: What is the dog doing?\n",
      "🔹 Answer:   sitting on log\n"
     ]
    }
   ],
   "source": [
    "# 7. 결과 디코딩 및 출력\n",
    "answer = processor_vqa.decode(outputs[0], skip_special_tokens=True)\n",
    "print(f\"🔹 Question: {question}\")\n",
    "print(f\"🔹 Answer:   {answer}\")"
   ]
  },
  {
   "cell_type": "code",
   "execution_count": null,
   "id": "46dec15c-2989-4f39-8a2b-9c1374d08578",
   "metadata": {},
   "outputs": [],
   "source": []
  }
 ],
 "metadata": {
  "kernelspec": {
   "display_name": "Python 3 (ipykernel)",
   "language": "python",
   "name": "python3"
  },
  "language_info": {
   "codemirror_mode": {
    "name": "ipython",
    "version": 3
   },
   "file_extension": ".py",
   "mimetype": "text/x-python",
   "name": "python",
   "nbconvert_exporter": "python",
   "pygments_lexer": "ipython3",
   "version": "3.11.10"
  }
 },
 "nbformat": 4,
 "nbformat_minor": 5
}
